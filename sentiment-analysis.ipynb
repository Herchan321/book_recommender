{
 "cells": [
  {
   "cell_type": "code",
   "id": "initial_id",
   "metadata": {
    "collapsed": true,
    "ExecuteTime": {
     "end_time": "2025-06-26T03:26:15.978013Z",
     "start_time": "2025-06-26T03:26:15.850596Z"
    }
   },
   "source": [
    "import pandas as pd\n",
    "books=pd.read_csv(\"books_with_categories.csv\")"
   ],
   "outputs": [],
   "execution_count": 1
  },
  {
   "metadata": {
    "ExecuteTime": {
     "end_time": "2025-06-26T03:30:08.650957Z",
     "start_time": "2025-06-26T03:27:13.128881Z"
    }
   },
   "cell_type": "code",
   "source": [
    "from transformers import pipeline\n",
    "classifier = pipeline(\"text-classification\",\n",
    "                      model=\"j-hartmann/emotion-english-distilroberta-base\",\n",
    "                      top_k = None,\n",
    "                      device = 0)\n",
    "classifier(\"I love this!\")"
   ],
   "id": "513dce139bb46df8",
   "outputs": [
    {
     "name": "stderr",
     "output_type": "stream",
     "text": [
      "C:\\Users\\dell\\PycharmProjects\\BookRecommender\\.venv\\Lib\\site-packages\\tqdm\\auto.py:21: TqdmWarning: IProgress not found. Please update jupyter and ipywidgets. See https://ipywidgets.readthedocs.io/en/stable/user_install.html\n",
      "  from .autonotebook import tqdm as notebook_tqdm\n",
      "Xet Storage is enabled for this repo, but the 'hf_xet' package is not installed. Falling back to regular HTTP download. For better performance, install the package with: `pip install huggingface_hub[hf_xet]` or `pip install hf_xet`\n",
      "Xet Storage is enabled for this repo, but the 'hf_xet' package is not installed. Falling back to regular HTTP download. For better performance, install the package with: `pip install huggingface_hub[hf_xet]` or `pip install hf_xet`\n",
      "Device set to use cpu\n"
     ]
    },
    {
     "data": {
      "text/plain": [
       "[[{'label': 'joy', 'score': 0.9771687984466553},\n",
       "  {'label': 'surprise', 'score': 0.008528673090040684},\n",
       "  {'label': 'neutral', 'score': 0.005764589179307222},\n",
       "  {'label': 'anger', 'score': 0.004419779404997826},\n",
       "  {'label': 'sadness', 'score': 0.002092391485348344},\n",
       "  {'label': 'disgust', 'score': 0.0016119909705594182},\n",
       "  {'label': 'fear', 'score': 0.00041385178337804973}]]"
      ]
     },
     "execution_count": 2,
     "metadata": {},
     "output_type": "execute_result"
    }
   ],
   "execution_count": 2
  },
  {
   "metadata": {
    "ExecuteTime": {
     "end_time": "2025-06-26T03:30:14.472333Z",
     "start_time": "2025-06-26T03:30:14.466263Z"
    }
   },
   "cell_type": "code",
   "source": [
    "\n",
    "books[\"description\"][0]"
   ],
   "id": "3fa404440a97c661",
   "outputs": [
    {
     "data": {
      "text/plain": [
       "'A NOVEL THAT READERS and critics have been eagerly anticipating for over a decade, Gilead is an astonishingly imagined story of remarkable lives. John Ames is a preacher, the son of a preacher and the grandson (both maternal and paternal) of preachers. It’s 1956 in Gilead, Iowa, towards the end of the Reverend Ames’s life, and he is absorbed in recording his family’s story, a legacy for the young son he will never see grow up. Haunted by his grandfather’s presence, John tells of the rift between his grandfather and his father: the elder, an angry visionary who fought for the abolitionist cause, and his son, an ardent pacifist. He is troubled, too, by his prodigal namesake, Jack (John Ames) Boughton, his best friend’s lost son who returns to Gilead searching for forgiveness and redemption. Told in John Ames’s joyous, rambling voice that finds beauty, humour and truth in the smallest of life’s details, Gilead is a song of celebration and acceptance of the best and the worst the world has to offer. At its heart is a tale of the sacred bonds between fathers and sons, pitch-perfect in style and story, set to dazzle critics and readers alike.'"
      ]
     },
     "execution_count": 3,
     "metadata": {},
     "output_type": "execute_result"
    }
   ],
   "execution_count": 3
  },
  {
   "metadata": {
    "ExecuteTime": {
     "end_time": "2025-06-26T03:30:16.970673Z",
     "start_time": "2025-06-26T03:30:16.855277Z"
    }
   },
   "cell_type": "code",
   "source": "classifier(books[\"description\"][0])",
   "id": "decf54ae30b28189",
   "outputs": [
    {
     "data": {
      "text/plain": [
       "[[{'label': 'fear', 'score': 0.654841423034668},\n",
       "  {'label': 'neutral', 'score': 0.16985194385051727},\n",
       "  {'label': 'sadness', 'score': 0.1164088025689125},\n",
       "  {'label': 'surprise', 'score': 0.020700586959719658},\n",
       "  {'label': 'disgust', 'score': 0.019100725650787354},\n",
       "  {'label': 'joy', 'score': 0.015161293558776379},\n",
       "  {'label': 'anger', 'score': 0.003935151733458042}]]"
      ]
     },
     "execution_count": 4,
     "metadata": {},
     "output_type": "execute_result"
    }
   ],
   "execution_count": 4
  },
  {
   "metadata": {
    "ExecuteTime": {
     "end_time": "2025-06-26T03:30:19.703194Z",
     "start_time": "2025-06-26T03:30:19.480378Z"
    }
   },
   "cell_type": "code",
   "source": "classifier(books[\"description\"][0].split(\".\"))",
   "id": "efaf1067d381270",
   "outputs": [
    {
     "data": {
      "text/plain": [
       "[[{'label': 'surprise', 'score': 0.7296027541160583},\n",
       "  {'label': 'neutral', 'score': 0.14038576185703278},\n",
       "  {'label': 'fear', 'score': 0.06816209107637405},\n",
       "  {'label': 'joy', 'score': 0.04794240742921829},\n",
       "  {'label': 'anger', 'score': 0.00915635284036398},\n",
       "  {'label': 'disgust', 'score': 0.0026284719351679087},\n",
       "  {'label': 'sadness', 'score': 0.0021221607457846403}],\n",
       " [{'label': 'neutral', 'score': 0.449370414018631},\n",
       "  {'label': 'disgust', 'score': 0.27359241247177124},\n",
       "  {'label': 'joy', 'score': 0.10908260941505432},\n",
       "  {'label': 'sadness', 'score': 0.09362703561782837},\n",
       "  {'label': 'anger', 'score': 0.040478307753801346},\n",
       "  {'label': 'surprise', 'score': 0.02697017230093479},\n",
       "  {'label': 'fear', 'score': 0.006879065651446581}],\n",
       " [{'label': 'neutral', 'score': 0.6462168097496033},\n",
       "  {'label': 'sadness', 'score': 0.2427326887845993},\n",
       "  {'label': 'disgust', 'score': 0.04342268034815788},\n",
       "  {'label': 'surprise', 'score': 0.028300466015934944},\n",
       "  {'label': 'joy', 'score': 0.014211482368409634},\n",
       "  {'label': 'fear', 'score': 0.014084089547395706},\n",
       "  {'label': 'anger', 'score': 0.011031883768737316}],\n",
       " [{'label': 'fear', 'score': 0.928168535232544},\n",
       "  {'label': 'anger', 'score': 0.0321907103061676},\n",
       "  {'label': 'neutral', 'score': 0.012808633036911488},\n",
       "  {'label': 'sadness', 'score': 0.00875683594495058},\n",
       "  {'label': 'surprise', 'score': 0.008597894571721554},\n",
       "  {'label': 'disgust', 'score': 0.008431794121861458},\n",
       "  {'label': 'joy', 'score': 0.0010455806041136384}],\n",
       " [{'label': 'sadness', 'score': 0.9671575427055359},\n",
       "  {'label': 'neutral', 'score': 0.015104170888662338},\n",
       "  {'label': 'disgust', 'score': 0.006480592768639326},\n",
       "  {'label': 'fear', 'score': 0.005393994972109795},\n",
       "  {'label': 'surprise', 'score': 0.0022869433742016554},\n",
       "  {'label': 'anger', 'score': 0.0018428886542096734},\n",
       "  {'label': 'joy', 'score': 0.001733880490064621}],\n",
       " [{'label': 'joy', 'score': 0.9327982664108276},\n",
       "  {'label': 'disgust', 'score': 0.03771686181426048},\n",
       "  {'label': 'neutral', 'score': 0.015891842544078827},\n",
       "  {'label': 'sadness', 'score': 0.006444473285228014},\n",
       "  {'label': 'anger', 'score': 0.005024951882660389},\n",
       "  {'label': 'surprise', 'score': 0.0015812074998393655},\n",
       "  {'label': 'fear', 'score': 0.0005423047696240246}],\n",
       " [{'label': 'joy', 'score': 0.6528704166412354},\n",
       "  {'label': 'neutral', 'score': 0.254274845123291},\n",
       "  {'label': 'surprise', 'score': 0.06808319687843323},\n",
       "  {'label': 'sadness', 'score': 0.009908993728458881},\n",
       "  {'label': 'disgust', 'score': 0.00651219068095088},\n",
       "  {'label': 'anger', 'score': 0.004821313079446554},\n",
       "  {'label': 'fear', 'score': 0.003529015462845564}],\n",
       " [{'label': 'neutral', 'score': 0.5494767427444458},\n",
       "  {'label': 'sadness', 'score': 0.11169015616178513},\n",
       "  {'label': 'disgust', 'score': 0.10400672256946564},\n",
       "  {'label': 'surprise', 'score': 0.07876548916101456},\n",
       "  {'label': 'anger', 'score': 0.06413363665342331},\n",
       "  {'label': 'fear', 'score': 0.05136279761791229},\n",
       "  {'label': 'joy', 'score': 0.040564414113759995}]]"
      ]
     },
     "execution_count": 5,
     "metadata": {},
     "output_type": "execute_result"
    }
   ],
   "execution_count": 5
  },
  {
   "metadata": {
    "ExecuteTime": {
     "end_time": "2025-06-26T03:30:21.766404Z",
     "start_time": "2025-06-26T03:30:21.550730Z"
    }
   },
   "cell_type": "code",
   "source": [
    "sentences = books[\"description\"][0].split(\".\")\n",
    "predictions = classifier(sentences)"
   ],
   "id": "82b367122714f98d",
   "outputs": [],
   "execution_count": 6
  },
  {
   "metadata": {
    "ExecuteTime": {
     "end_time": "2025-06-26T03:30:23.901079Z",
     "start_time": "2025-06-26T03:30:23.895058Z"
    }
   },
   "cell_type": "code",
   "source": [
    "\n",
    "sentences[0]"
   ],
   "id": "b3a2d4129ad7a876",
   "outputs": [
    {
     "data": {
      "text/plain": [
       "'A NOVEL THAT READERS and critics have been eagerly anticipating for over a decade, Gilead is an astonishingly imagined story of remarkable lives'"
      ]
     },
     "execution_count": 7,
     "metadata": {},
     "output_type": "execute_result"
    }
   ],
   "execution_count": 7
  },
  {
   "metadata": {
    "ExecuteTime": {
     "end_time": "2025-06-26T03:30:25.406235Z",
     "start_time": "2025-06-26T03:30:25.400566Z"
    }
   },
   "cell_type": "code",
   "source": [
    "\n",
    "predictions[0]"
   ],
   "id": "cddf07cd9db07ff3",
   "outputs": [
    {
     "data": {
      "text/plain": [
       "[{'label': 'surprise', 'score': 0.7296027541160583},\n",
       " {'label': 'neutral', 'score': 0.14038576185703278},\n",
       " {'label': 'fear', 'score': 0.06816209107637405},\n",
       " {'label': 'joy', 'score': 0.04794240742921829},\n",
       " {'label': 'anger', 'score': 0.00915635284036398},\n",
       " {'label': 'disgust', 'score': 0.0026284719351679087},\n",
       " {'label': 'sadness', 'score': 0.0021221607457846403}]"
      ]
     },
     "execution_count": 8,
     "metadata": {},
     "output_type": "execute_result"
    }
   ],
   "execution_count": 8
  },
  {
   "metadata": {
    "ExecuteTime": {
     "end_time": "2025-06-26T03:30:27.868067Z",
     "start_time": "2025-06-26T03:30:27.863176Z"
    }
   },
   "cell_type": "code",
   "source": [
    "\n",
    "sentences[3]"
   ],
   "id": "347283b467d175d1",
   "outputs": [
    {
     "data": {
      "text/plain": [
       "' Haunted by his grandfather’s presence, John tells of the rift between his grandfather and his father: the elder, an angry visionary who fought for the abolitionist cause, and his son, an ardent pacifist'"
      ]
     },
     "execution_count": 9,
     "metadata": {},
     "output_type": "execute_result"
    }
   ],
   "execution_count": 9
  },
  {
   "metadata": {
    "ExecuteTime": {
     "end_time": "2025-06-26T03:30:30.538760Z",
     "start_time": "2025-06-26T03:30:30.532245Z"
    }
   },
   "cell_type": "code",
   "source": [
    "\n",
    "predictions"
   ],
   "id": "aa957b096b59952a",
   "outputs": [
    {
     "data": {
      "text/plain": [
       "[[{'label': 'surprise', 'score': 0.7296027541160583},\n",
       "  {'label': 'neutral', 'score': 0.14038576185703278},\n",
       "  {'label': 'fear', 'score': 0.06816209107637405},\n",
       "  {'label': 'joy', 'score': 0.04794240742921829},\n",
       "  {'label': 'anger', 'score': 0.00915635284036398},\n",
       "  {'label': 'disgust', 'score': 0.0026284719351679087},\n",
       "  {'label': 'sadness', 'score': 0.0021221607457846403}],\n",
       " [{'label': 'neutral', 'score': 0.449370414018631},\n",
       "  {'label': 'disgust', 'score': 0.27359241247177124},\n",
       "  {'label': 'joy', 'score': 0.10908260941505432},\n",
       "  {'label': 'sadness', 'score': 0.09362703561782837},\n",
       "  {'label': 'anger', 'score': 0.040478307753801346},\n",
       "  {'label': 'surprise', 'score': 0.02697017230093479},\n",
       "  {'label': 'fear', 'score': 0.006879065651446581}],\n",
       " [{'label': 'neutral', 'score': 0.6462168097496033},\n",
       "  {'label': 'sadness', 'score': 0.2427326887845993},\n",
       "  {'label': 'disgust', 'score': 0.04342268034815788},\n",
       "  {'label': 'surprise', 'score': 0.028300466015934944},\n",
       "  {'label': 'joy', 'score': 0.014211482368409634},\n",
       "  {'label': 'fear', 'score': 0.014084089547395706},\n",
       "  {'label': 'anger', 'score': 0.011031883768737316}],\n",
       " [{'label': 'fear', 'score': 0.928168535232544},\n",
       "  {'label': 'anger', 'score': 0.0321907103061676},\n",
       "  {'label': 'neutral', 'score': 0.012808633036911488},\n",
       "  {'label': 'sadness', 'score': 0.00875683594495058},\n",
       "  {'label': 'surprise', 'score': 0.008597894571721554},\n",
       "  {'label': 'disgust', 'score': 0.008431794121861458},\n",
       "  {'label': 'joy', 'score': 0.0010455806041136384}],\n",
       " [{'label': 'sadness', 'score': 0.9671575427055359},\n",
       "  {'label': 'neutral', 'score': 0.015104170888662338},\n",
       "  {'label': 'disgust', 'score': 0.006480592768639326},\n",
       "  {'label': 'fear', 'score': 0.005393994972109795},\n",
       "  {'label': 'surprise', 'score': 0.0022869433742016554},\n",
       "  {'label': 'anger', 'score': 0.0018428886542096734},\n",
       "  {'label': 'joy', 'score': 0.001733880490064621}],\n",
       " [{'label': 'joy', 'score': 0.9327982664108276},\n",
       "  {'label': 'disgust', 'score': 0.03771686181426048},\n",
       "  {'label': 'neutral', 'score': 0.015891842544078827},\n",
       "  {'label': 'sadness', 'score': 0.006444473285228014},\n",
       "  {'label': 'anger', 'score': 0.005024951882660389},\n",
       "  {'label': 'surprise', 'score': 0.0015812074998393655},\n",
       "  {'label': 'fear', 'score': 0.0005423047696240246}],\n",
       " [{'label': 'joy', 'score': 0.6528704166412354},\n",
       "  {'label': 'neutral', 'score': 0.254274845123291},\n",
       "  {'label': 'surprise', 'score': 0.06808319687843323},\n",
       "  {'label': 'sadness', 'score': 0.009908993728458881},\n",
       "  {'label': 'disgust', 'score': 0.00651219068095088},\n",
       "  {'label': 'anger', 'score': 0.004821313079446554},\n",
       "  {'label': 'fear', 'score': 0.003529015462845564}],\n",
       " [{'label': 'neutral', 'score': 0.5494767427444458},\n",
       "  {'label': 'sadness', 'score': 0.11169015616178513},\n",
       "  {'label': 'disgust', 'score': 0.10400672256946564},\n",
       "  {'label': 'surprise', 'score': 0.07876548916101456},\n",
       "  {'label': 'anger', 'score': 0.06413363665342331},\n",
       "  {'label': 'fear', 'score': 0.05136279761791229},\n",
       "  {'label': 'joy', 'score': 0.040564414113759995}]]"
      ]
     },
     "execution_count": 10,
     "metadata": {},
     "output_type": "execute_result"
    }
   ],
   "execution_count": 10
  },
  {
   "metadata": {
    "ExecuteTime": {
     "end_time": "2025-06-26T03:30:35.290209Z",
     "start_time": "2025-06-26T03:30:35.283841Z"
    }
   },
   "cell_type": "code",
   "source": "sorted(predictions[0], key=lambda x: x[\"label\"])",
   "id": "4181c9fe12d93b22",
   "outputs": [
    {
     "data": {
      "text/plain": [
       "[{'label': 'anger', 'score': 0.00915635284036398},\n",
       " {'label': 'disgust', 'score': 0.0026284719351679087},\n",
       " {'label': 'fear', 'score': 0.06816209107637405},\n",
       " {'label': 'joy', 'score': 0.04794240742921829},\n",
       " {'label': 'neutral', 'score': 0.14038576185703278},\n",
       " {'label': 'sadness', 'score': 0.0021221607457846403},\n",
       " {'label': 'surprise', 'score': 0.7296027541160583}]"
      ]
     },
     "execution_count": 11,
     "metadata": {},
     "output_type": "execute_result"
    }
   ],
   "execution_count": 11
  },
  {
   "metadata": {
    "ExecuteTime": {
     "end_time": "2025-06-26T03:30:38.605509Z",
     "start_time": "2025-06-26T03:30:38.598993Z"
    }
   },
   "cell_type": "code",
   "source": [
    "import numpy as np\n",
    "\n",
    "emotion_labels = [\"anger\", \"disgust\", \"fear\", \"joy\", \"sadness\", \"surprise\", \"neutral\"]\n",
    "isbn = []\n",
    "emotion_scores = {label: [] for label in emotion_labels}\n",
    "\n",
    "def calculate_max_emotion_scores(predictions):\n",
    "    per_emotion_scores = {label: [] for label in emotion_labels}\n",
    "    for prediction in predictions:\n",
    "        sorted_predictions = sorted(prediction, key=lambda x: x[\"label\"])\n",
    "        for index, label in enumerate(emotion_labels):\n",
    "            per_emotion_scores[label].append(sorted_predictions[index][\"score\"])\n",
    "    return {label: np.max(scores) for label, scores in per_emotion_scores.items()}"
   ],
   "id": "10021ad88ef56e20",
   "outputs": [],
   "execution_count": 12
  },
  {
   "metadata": {
    "ExecuteTime": {
     "end_time": "2025-06-26T03:30:42.711284Z",
     "start_time": "2025-06-26T03:30:41.454986Z"
    }
   },
   "cell_type": "code",
   "source": [
    "for i in range(10):\n",
    "    isbn.append(books[\"isbn13\"][i])\n",
    "    sentences = books[\"description\"][i].split(\".\")\n",
    "    predictions = classifier(sentences)\n",
    "    max_scores = calculate_max_emotion_scores(predictions)\n",
    "    for label in emotion_labels:\n",
    "        emotion_scores[label].append(max_scores[label])"
   ],
   "id": "2309c9dba8be898a",
   "outputs": [],
   "execution_count": 13
  },
  {
   "metadata": {
    "ExecuteTime": {
     "end_time": "2025-06-26T03:30:43.776801Z",
     "start_time": "2025-06-26T03:30:43.772240Z"
    }
   },
   "cell_type": "code",
   "source": "emotion_scores",
   "id": "652442a201a7b88e",
   "outputs": [
    {
     "data": {
      "text/plain": [
       "{'anger': [np.float64(0.06413363665342331),\n",
       "  np.float64(0.6126185059547424),\n",
       "  np.float64(0.6126185059547424),\n",
       "  np.float64(0.06413363665342331),\n",
       "  np.float64(0.06413363665342331),\n",
       "  np.float64(0.06413363665342331),\n",
       "  np.float64(0.3514834940433502),\n",
       "  np.float64(0.3514834940433502),\n",
       "  np.float64(0.0814124047756195),\n",
       "  np.float64(0.0814124047756195)],\n",
       " 'disgust': [np.float64(0.27359241247177124),\n",
       "  np.float64(0.3482835590839386),\n",
       "  np.float64(0.3482835590839386),\n",
       "  np.float64(0.10400672256946564),\n",
       "  np.float64(0.10400672256946564),\n",
       "  np.float64(0.10400672256946564),\n",
       "  np.float64(0.15072275698184967),\n",
       "  np.float64(0.15072275698184967),\n",
       "  np.float64(0.18449535965919495),\n",
       "  np.float64(0.18449535965919495)],\n",
       " 'fear': [np.float64(0.928168535232544),\n",
       "  np.float64(0.942527711391449),\n",
       "  np.float64(0.942527711391449),\n",
       "  np.float64(0.05136279761791229),\n",
       "  np.float64(0.05136279761791229),\n",
       "  np.float64(0.9723208546638489),\n",
       "  np.float64(0.36070650815963745),\n",
       "  np.float64(0.36070650815963745),\n",
       "  np.float64(0.0950433686375618),\n",
       "  np.float64(0.0950433686375618)],\n",
       " 'joy': [np.float64(0.9327982664108276),\n",
       "  np.float64(0.7044215202331543),\n",
       "  np.float64(0.7044215202331543),\n",
       "  np.float64(0.5651214718818665),\n",
       "  np.float64(0.5651214718818665),\n",
       "  np.float64(0.7672374844551086),\n",
       "  np.float64(0.25188058614730835),\n",
       "  np.float64(0.25188058614730835),\n",
       "  np.float64(0.040564414113759995),\n",
       "  np.float64(0.040564414113759995)],\n",
       " 'sadness': [np.float64(0.6462168097496033),\n",
       "  np.float64(0.887939453125),\n",
       "  np.float64(0.887939453125),\n",
       "  np.float64(0.5494767427444458),\n",
       "  np.float64(0.5494767427444458),\n",
       "  np.float64(0.5494767427444458),\n",
       "  np.float64(0.732685387134552),\n",
       "  np.float64(0.732685387134552),\n",
       "  np.float64(0.8843895196914673),\n",
       "  np.float64(0.8843895196914673)],\n",
       " 'surprise': [np.float64(0.9671575427055359),\n",
       "  np.float64(0.11169015616178513),\n",
       "  np.float64(0.11169015616178513),\n",
       "  np.float64(0.11169015616178513),\n",
       "  np.float64(0.11169015616178513),\n",
       "  np.float64(0.11169015616178513),\n",
       "  np.float64(0.11169015616178513),\n",
       "  np.float64(0.11169015616178513),\n",
       "  np.float64(0.47588053345680237),\n",
       "  np.float64(0.47588053345680237)],\n",
       " 'neutral': [np.float64(0.7296027541160583),\n",
       "  np.float64(0.2525451183319092),\n",
       "  np.float64(0.2525451183319092),\n",
       "  np.float64(0.07876548916101456),\n",
       "  np.float64(0.07876548916101456),\n",
       "  np.float64(0.07876548916101456),\n",
       "  np.float64(0.07876548916101456),\n",
       "  np.float64(0.07876548916101456),\n",
       "  np.float64(0.07876548916101456),\n",
       "  np.float64(0.07876548916101456)]}"
      ]
     },
     "execution_count": 14,
     "metadata": {},
     "output_type": "execute_result"
    }
   ],
   "execution_count": 14
  },
  {
   "metadata": {
    "ExecuteTime": {
     "end_time": "2025-06-26T03:42:25.051423Z",
     "start_time": "2025-06-26T03:32:31.662647Z"
    }
   },
   "cell_type": "code",
   "source": [
    "from tqdm import tqdm\n",
    "\n",
    "emotion_labels = [\"anger\", \"disgust\", \"fear\", \"joy\", \"sadness\", \"surprise\", \"neutral\"]\n",
    "isbn = []\n",
    "emotion_scores = {label: [] for label in emotion_labels}\n",
    "\n",
    "for i in tqdm(range(len(books))):\n",
    "    isbn.append(books[\"isbn13\"][i])\n",
    "    desc = books[\"description\"][i]\n",
    "    if isinstance(desc, str) and desc.strip() != \"\":\n",
    "        sentences = desc.split(\".\")\n",
    "        predictions = classifier(sentences)\n",
    "        max_scores = calculate_max_emotion_scores(predictions)\n",
    "    else:\n",
    "        max_scores = {label: 0.0 for label in emotion_labels}\n",
    "    for label in emotion_labels:\n",
    "        emotion_scores[label].append(max_scores[label])"
   ],
   "id": "8261ba7f0d076ee0",
   "outputs": [
    {
     "name": "stderr",
     "output_type": "stream",
     "text": [
      "100%|██████████| 6894/6894 [09:53<00:00, 11.62it/s]\n"
     ]
    }
   ],
   "execution_count": 16
  },
  {
   "metadata": {
    "ExecuteTime": {
     "end_time": "2025-06-26T03:46:09.463356Z",
     "start_time": "2025-06-26T03:46:09.446638Z"
    }
   },
   "cell_type": "code",
   "source": [
    "emotions_df = pd.DataFrame(emotion_scores)\n",
    "emotions_df[\"isbn13\"] = isbn"
   ],
   "id": "81afc6d398873cd",
   "outputs": [],
   "execution_count": 17
  },
  {
   "metadata": {
    "ExecuteTime": {
     "end_time": "2025-06-26T03:46:12.553126Z",
     "start_time": "2025-06-26T03:46:12.538898Z"
    }
   },
   "cell_type": "code",
   "source": [
    "\n",
    "emotions_df"
   ],
   "id": "b34dc9e8f544d1e6",
   "outputs": [
    {
     "data": {
      "text/plain": [
       "         anger   disgust      fear       joy   sadness  surprise   neutral  \\\n",
       "0     0.064134  0.273592  0.928169  0.932798  0.646217  0.967158  0.729603   \n",
       "1     0.612619  0.348284  0.942528  0.704422  0.887939  0.111690  0.252545   \n",
       "2     0.612619  0.348284  0.942528  0.704422  0.887939  0.111690  0.252545   \n",
       "3     0.064134  0.104007  0.051363  0.565121  0.549477  0.111690  0.078765   \n",
       "4     0.064134  0.104007  0.051363  0.565121  0.549477  0.111690  0.078765   \n",
       "...        ...       ...       ...       ...       ...       ...       ...   \n",
       "6889  0.064134  0.104007  0.459268  0.759456  0.951104  0.368112  0.078765   \n",
       "6890  0.000000  0.000000  0.000000  0.000000  0.000000  0.000000  0.000000   \n",
       "6891  0.000000  0.000000  0.000000  0.000000  0.000000  0.000000  0.000000   \n",
       "6892  0.064134  0.104007  0.051363  0.958549  0.915193  0.111690  0.078765   \n",
       "6893  0.064134  0.104007  0.051363  0.991484  0.549477  0.111690  0.078765   \n",
       "\n",
       "             isbn13  \n",
       "0     9780002005883  \n",
       "1     9780002261982  \n",
       "2     9780002261982  \n",
       "3     9780006163831  \n",
       "4     9780006163831  \n",
       "...             ...  \n",
       "6889  9788185300535  \n",
       "6890  9788185944609  \n",
       "6891  9788445074879  \n",
       "6892  9789027712059  \n",
       "6893  9789042003408  \n",
       "\n",
       "[6894 rows x 8 columns]"
      ],
      "text/html": [
       "<div>\n",
       "<style scoped>\n",
       "    .dataframe tbody tr th:only-of-type {\n",
       "        vertical-align: middle;\n",
       "    }\n",
       "\n",
       "    .dataframe tbody tr th {\n",
       "        vertical-align: top;\n",
       "    }\n",
       "\n",
       "    .dataframe thead th {\n",
       "        text-align: right;\n",
       "    }\n",
       "</style>\n",
       "<table border=\"1\" class=\"dataframe\">\n",
       "  <thead>\n",
       "    <tr style=\"text-align: right;\">\n",
       "      <th></th>\n",
       "      <th>anger</th>\n",
       "      <th>disgust</th>\n",
       "      <th>fear</th>\n",
       "      <th>joy</th>\n",
       "      <th>sadness</th>\n",
       "      <th>surprise</th>\n",
       "      <th>neutral</th>\n",
       "      <th>isbn13</th>\n",
       "    </tr>\n",
       "  </thead>\n",
       "  <tbody>\n",
       "    <tr>\n",
       "      <th>0</th>\n",
       "      <td>0.064134</td>\n",
       "      <td>0.273592</td>\n",
       "      <td>0.928169</td>\n",
       "      <td>0.932798</td>\n",
       "      <td>0.646217</td>\n",
       "      <td>0.967158</td>\n",
       "      <td>0.729603</td>\n",
       "      <td>9780002005883</td>\n",
       "    </tr>\n",
       "    <tr>\n",
       "      <th>1</th>\n",
       "      <td>0.612619</td>\n",
       "      <td>0.348284</td>\n",
       "      <td>0.942528</td>\n",
       "      <td>0.704422</td>\n",
       "      <td>0.887939</td>\n",
       "      <td>0.111690</td>\n",
       "      <td>0.252545</td>\n",
       "      <td>9780002261982</td>\n",
       "    </tr>\n",
       "    <tr>\n",
       "      <th>2</th>\n",
       "      <td>0.612619</td>\n",
       "      <td>0.348284</td>\n",
       "      <td>0.942528</td>\n",
       "      <td>0.704422</td>\n",
       "      <td>0.887939</td>\n",
       "      <td>0.111690</td>\n",
       "      <td>0.252545</td>\n",
       "      <td>9780002261982</td>\n",
       "    </tr>\n",
       "    <tr>\n",
       "      <th>3</th>\n",
       "      <td>0.064134</td>\n",
       "      <td>0.104007</td>\n",
       "      <td>0.051363</td>\n",
       "      <td>0.565121</td>\n",
       "      <td>0.549477</td>\n",
       "      <td>0.111690</td>\n",
       "      <td>0.078765</td>\n",
       "      <td>9780006163831</td>\n",
       "    </tr>\n",
       "    <tr>\n",
       "      <th>4</th>\n",
       "      <td>0.064134</td>\n",
       "      <td>0.104007</td>\n",
       "      <td>0.051363</td>\n",
       "      <td>0.565121</td>\n",
       "      <td>0.549477</td>\n",
       "      <td>0.111690</td>\n",
       "      <td>0.078765</td>\n",
       "      <td>9780006163831</td>\n",
       "    </tr>\n",
       "    <tr>\n",
       "      <th>...</th>\n",
       "      <td>...</td>\n",
       "      <td>...</td>\n",
       "      <td>...</td>\n",
       "      <td>...</td>\n",
       "      <td>...</td>\n",
       "      <td>...</td>\n",
       "      <td>...</td>\n",
       "      <td>...</td>\n",
       "    </tr>\n",
       "    <tr>\n",
       "      <th>6889</th>\n",
       "      <td>0.064134</td>\n",
       "      <td>0.104007</td>\n",
       "      <td>0.459268</td>\n",
       "      <td>0.759456</td>\n",
       "      <td>0.951104</td>\n",
       "      <td>0.368112</td>\n",
       "      <td>0.078765</td>\n",
       "      <td>9788185300535</td>\n",
       "    </tr>\n",
       "    <tr>\n",
       "      <th>6890</th>\n",
       "      <td>0.000000</td>\n",
       "      <td>0.000000</td>\n",
       "      <td>0.000000</td>\n",
       "      <td>0.000000</td>\n",
       "      <td>0.000000</td>\n",
       "      <td>0.000000</td>\n",
       "      <td>0.000000</td>\n",
       "      <td>9788185944609</td>\n",
       "    </tr>\n",
       "    <tr>\n",
       "      <th>6891</th>\n",
       "      <td>0.000000</td>\n",
       "      <td>0.000000</td>\n",
       "      <td>0.000000</td>\n",
       "      <td>0.000000</td>\n",
       "      <td>0.000000</td>\n",
       "      <td>0.000000</td>\n",
       "      <td>0.000000</td>\n",
       "      <td>9788445074879</td>\n",
       "    </tr>\n",
       "    <tr>\n",
       "      <th>6892</th>\n",
       "      <td>0.064134</td>\n",
       "      <td>0.104007</td>\n",
       "      <td>0.051363</td>\n",
       "      <td>0.958549</td>\n",
       "      <td>0.915193</td>\n",
       "      <td>0.111690</td>\n",
       "      <td>0.078765</td>\n",
       "      <td>9789027712059</td>\n",
       "    </tr>\n",
       "    <tr>\n",
       "      <th>6893</th>\n",
       "      <td>0.064134</td>\n",
       "      <td>0.104007</td>\n",
       "      <td>0.051363</td>\n",
       "      <td>0.991484</td>\n",
       "      <td>0.549477</td>\n",
       "      <td>0.111690</td>\n",
       "      <td>0.078765</td>\n",
       "      <td>9789042003408</td>\n",
       "    </tr>\n",
       "  </tbody>\n",
       "</table>\n",
       "<p>6894 rows × 8 columns</p>\n",
       "</div>"
      ]
     },
     "execution_count": 18,
     "metadata": {},
     "output_type": "execute_result"
    }
   ],
   "execution_count": 18
  },
  {
   "metadata": {
    "ExecuteTime": {
     "end_time": "2025-06-26T03:46:15.259027Z",
     "start_time": "2025-06-26T03:46:15.246066Z"
    }
   },
   "cell_type": "code",
   "source": "books = pd.merge(books, emotions_df, on = \"isbn13\")",
   "id": "354ee34cf4f8f98f",
   "outputs": [],
   "execution_count": 19
  },
  {
   "metadata": {
    "ExecuteTime": {
     "end_time": "2025-06-26T03:46:16.730873Z",
     "start_time": "2025-06-26T03:46:16.529808Z"
    }
   },
   "cell_type": "code",
   "source": "books.to_csv(\"books_with_emotions.csv\", index = False)",
   "id": "63ef5ef35a012808",
   "outputs": [],
   "execution_count": 20
  }
 ],
 "metadata": {
  "kernelspec": {
   "display_name": "Python 3",
   "language": "python",
   "name": "python3"
  },
  "language_info": {
   "codemirror_mode": {
    "name": "ipython",
    "version": 2
   },
   "file_extension": ".py",
   "mimetype": "text/x-python",
   "name": "python",
   "nbconvert_exporter": "python",
   "pygments_lexer": "ipython2",
   "version": "2.7.6"
  }
 },
 "nbformat": 4,
 "nbformat_minor": 5
}
